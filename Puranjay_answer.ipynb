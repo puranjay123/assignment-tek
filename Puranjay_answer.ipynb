{
 "cells": [
  {
   "cell_type": "code",
   "execution_count": 15,
   "id": "5c126e1b",
   "metadata": {},
   "outputs": [],
   "source": [
    "# Problem statement : The atm machine has a list of X- 2000 INR notes , Y 500 INR notes , Z 100 INR notes , XX 50 INR notes , YY 20 INR notes, ZZ 10 INR notes and XYZ 5 INR notes. (X,Y,Z,XX,YY,ZZ) should be got as an input from the user in the begining of the program.\n",
    "# Second input is to get the amount which will be withdrawn by a customer : \"Amount\"\n",
    "# The output required from the program is all the possible combination of the notes with which the bank teller can tender the amount requested by the customer.\n",
    "# #2000 notes -> 2\n",
    "# #500 notes -> 5\n",
    "# #100 notes -> 4\n",
    "# #50 notes -> 30\n",
    "# #20 notes -> 50\n",
    "# #10 notes -> 100\n",
    "# #5 notes -> 200\n"
   ]
  },
  {
   "cell_type": "markdown",
   "id": "e5521c3d",
   "metadata": {},
   "source": [
    "### User Input"
   ]
  },
  {
   "cell_type": "code",
   "execution_count": 3,
   "id": "f6f7b070",
   "metadata": {},
   "outputs": [
    {
     "name": "stdout",
     "output_type": "stream",
     "text": [
      "Enter the amaount of 2000 rs Note in ATM:   1\n",
      "Enter the amaount of 500 rs Note in  ATM:   1\n",
      "Enter the amaount of 100 rs Note in  ATM:   1\n",
      "Enter the amaount of 50 rs Note in   ATM:   1\n",
      "Enter the amaount of 20 rs Note in   ATM:   1\n",
      "Enter the amaount of 10 rs Note in   ATM:   1\n",
      "Enter the amaount of 5 rs Note in    ATM:   1\n"
     ]
    }
   ],
   "source": [
    "X = int(input(\"Enter the amaount of 2000 rs Note in ATM:   \"))\n",
    "Y = int(input(\"Enter the amaount of 500 rs Note in  ATM:   \"))\n",
    "Z = int(input(\"Enter the amaount of 100 rs Note in  ATM:   \"))\n",
    "XX = int(input(\"Enter the amaount of 50 rs Note in   ATM:   \"))\n",
    "YY = int(input(\"Enter the amaount of 20 rs Note in   ATM:   \"))\n",
    "ZZ = int(input(\"Enter the amaount of 10 rs Note in   ATM:   \"))\n",
    "XYZ = int(input(\"Enter the amaount of 5 rs Note in    ATM:   \"))\n",
    "\n",
    "\n"
   ]
  },
  {
   "cell_type": "markdown",
   "id": "91a98385",
   "metadata": {},
   "source": [
    "Withdrawl input"
   ]
  },
  {
   "cell_type": "code",
   "execution_count": 4,
   "id": "c9b79c30",
   "metadata": {},
   "outputs": [
    {
     "name": "stdout",
     "output_type": "stream",
     "text": [
      "Enter the amount which you want to withdraw125\n"
     ]
    }
   ],
   "source": [
    "amount = int(input('Enter the amount which you want to withdraw'))"
   ]
  },
  {
   "cell_type": "code",
   "execution_count": 16,
   "id": "f42159c9",
   "metadata": {},
   "outputs": [],
   "source": [
    "# creating a dictionary of the available notes present in the ATM machine\n",
    "notes = {2000:X,500:Y,100:Z,50:XX,20:YY,10:ZZ,5:XYZ}\n",
    "\n",
    "def my_notes(notes,amount):\n",
    "    if amount==0:\n",
    "        return [[]]\n",
    "    permutations =[]\n",
    "    for note in notes:\n",
    "        if notes[note]>0 and note<=amount:\n",
    "            notes_copy = notes.copy()\n",
    "            notes_copy[note] -=1\n",
    "            sub_combinations = my_notes(notes_copy,amount-note)\n",
    "            for i in sub_combinations:\n",
    "                combination = [note]+i\n",
    "                permutations.append(combination)\n",
    "    return permutations"
   ]
  },
  {
   "cell_type": "code",
   "execution_count": 17,
   "id": "155bef23",
   "metadata": {},
   "outputs": [],
   "source": [
    "permutations = my_notes(notes, amount)\n"
   ]
  },
  {
   "cell_type": "code",
   "execution_count": 18,
   "id": "750d28e4",
   "metadata": {},
   "outputs": [
    {
     "name": "stdout",
     "output_type": "stream",
     "text": [
      "Combinations\n",
      "[100, 20, 5]\n",
      "1  note of 100, 1  note of 20, 1  note of 5\n",
      "[100, 5, 20]\n",
      "1  note of 100, 1  note of 5, 1  note of 20\n",
      "[20, 100, 5]\n",
      "1  note of 20, 1  note of 100, 1  note of 5\n",
      "[20, 5, 100]\n",
      "1  note of 20, 1  note of 5, 1  note of 100\n",
      "[5, 100, 20]\n",
      "1  note of 5, 1  note of 100, 1  note of 20\n",
      "[5, 20, 100]\n",
      "1  note of 5, 1  note of 20, 1  note of 100\n"
     ]
    }
   ],
   "source": [
    "\n",
    "if amount==-1:\n",
    "    print(\"You are poor\")\n",
    "if len(combinations) == 0:\n",
    "    print(\"Not possible\")\n",
    "else:\n",
    "    print('Combinations')\n",
    "    for combination in permutations:\n",
    "        note_counts = {}\n",
    "        for note in combination:\n",
    "            note_counts[note] = note_counts.get(note,0)+1\n",
    "        print(combination)\n",
    "        print(', '.join([f\"{count}  note of {note}\" for note,count in note_counts.items()]))"
   ]
  },
  {
   "cell_type": "code",
   "execution_count": null,
   "id": "6aa6579b",
   "metadata": {},
   "outputs": [],
   "source": []
  },
  {
   "cell_type": "code",
   "execution_count": null,
   "id": "942ba45a",
   "metadata": {},
   "outputs": [],
   "source": []
  },
  {
   "cell_type": "code",
   "execution_count": null,
   "id": "2ccf6922",
   "metadata": {},
   "outputs": [],
   "source": []
  },
  {
   "cell_type": "code",
   "execution_count": null,
   "id": "4f828a04",
   "metadata": {},
   "outputs": [],
   "source": []
  }
 ],
 "metadata": {
  "kernelspec": {
   "display_name": "Python 3 (ipykernel)",
   "language": "python",
   "name": "python3"
  },
  "language_info": {
   "codemirror_mode": {
    "name": "ipython",
    "version": 3
   },
   "file_extension": ".py",
   "mimetype": "text/x-python",
   "name": "python",
   "nbconvert_exporter": "python",
   "pygments_lexer": "ipython3",
   "version": "3.9.13"
  }
 },
 "nbformat": 4,
 "nbformat_minor": 5
}
